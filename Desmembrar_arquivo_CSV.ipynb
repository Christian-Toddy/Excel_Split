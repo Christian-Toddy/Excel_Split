{
  "nbformat": 4,
  "nbformat_minor": 0,
  "metadata": {
    "colab": {
      "provenance": [],
      "mount_file_id": "1IDGdJ9f0R458ud3pPzS5DUwgp8tW_vJA",
      "authorship_tag": "ABX9TyMj8b68enxGZdFqtuhobbcC",
      "include_colab_link": true
    },
    "kernelspec": {
      "name": "python3",
      "display_name": "Python 3"
    },
    "language_info": {
      "name": "python"
    }
  },
  "cells": [
    {
      "cell_type": "markdown",
      "metadata": {
        "id": "view-in-github",
        "colab_type": "text"
      },
      "source": [
        "<a href=\"https://colab.research.google.com/github/Christian-Toddy/Excel_Split/blob/main/Desmembrar_arquivo_CSV.ipynb\" target=\"_parent\"><img src=\"https://colab.research.google.com/assets/colab-badge.svg\" alt=\"Open In Colab\"/></a>"
      ]
    },
    {
      "cell_type": "code",
      "execution_count": 22,
      "metadata": {
        "id": "oOglpEFr0wbH"
      },
      "outputs": [],
      "source": [
        "from google.cloud import storage\n",
        "import pandas as pd\n",
        "import os\n",
        "import shutil"
      ]
    },
    {
      "cell_type": "markdown",
      "source": [
        "Definindo as variáveis"
      ],
      "metadata": {
        "id": "UggtuFTRjgK7"
      }
    },
    {
      "cell_type": "code",
      "source": [
        "caminho = '/content/drive/MyDrive/sib_202306_AL.csv'\n",
        "df = pd.read_csv(caminho,encoding='latin_1',error_bad_lines=False)# colocar um loop"
      ],
      "metadata": {
        "id": "9lKnsfKJgamG"
      },
      "execution_count": null,
      "outputs": []
    },
    {
      "cell_type": "code",
      "source": [
        "nome = os.path.basename(caminho)\n",
        "tamanho = os.path.getsize(caminho)/1048576 #rever o tamanho do arquivo\n",
        "nº_arquivos = int(tamanho//100 + 2)\n",
        "linhas_arquivo = (len(df)//nº_arquivos+1)"
      ],
      "metadata": {
        "id": "WC-50ixdEWzz"
      },
      "execution_count": null,
      "outputs": []
    },
    {
      "cell_type": "markdown",
      "source": [
        "Código principal"
      ],
      "metadata": {
        "id": "17karIGzksIN"
      }
    },
    {
      "cell_type": "code",
      "source": [
        "div = [df[i:i+linhas_arquivo] for i in range (0,len(df),linhas_arquivo)] # 5 linhas do começo da tabela\n",
        "\n",
        "for i, parte in enumerate(div):\n",
        "  nome_arquivo = f'{nome}_{i+1}.csv'\n",
        "  parte.to_csv(nome_arquivo, index=False)\n",
        "  shutil.copy(nome_arquivo, \"/content/drive/MyDrive\")"
      ],
      "metadata": {
        "id": "lC5iXhhwf4I9"
      },
      "execution_count": null,
      "outputs": []
    },
    {
      "cell_type": "markdown",
      "source": [],
      "metadata": {
        "id": "XYRXCLO6fUCR"
      }
    }
  ]
}
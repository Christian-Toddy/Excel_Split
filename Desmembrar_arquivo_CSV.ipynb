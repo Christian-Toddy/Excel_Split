{
  "nbformat": 4,
  "nbformat_minor": 0,
  "metadata": {
    "colab": {
      "provenance": [],
      "mount_file_id": "1IDGdJ9f0R458ud3pPzS5DUwgp8tW_vJA",
      "authorship_tag": "ABX9TyOHmruCezXSrRRfRWIjaicJ",
      "include_colab_link": true
    },
    "kernelspec": {
      "name": "python3",
      "display_name": "Python 3"
    },
    "language_info": {
      "name": "python"
    }
  },
  "cells": [
    {
      "cell_type": "markdown",
      "metadata": {
        "id": "view-in-github",
        "colab_type": "text"
      },
      "source": [
        "<a href=\"https://colab.research.google.com/github/Christian-Toddy/Excel_Split/blob/main/Desmembrar_arquivo_CSV.ipynb\" target=\"_parent\"><img src=\"https://colab.research.google.com/assets/colab-badge.svg\" alt=\"Open In Colab\"/></a>"
      ]
    },
    {
      "cell_type": "code",
      "execution_count": 1,
      "metadata": {
        "id": "oOglpEFr0wbH"
      },
      "outputs": [],
      "source": [
        "from google.cloud import storage\n",
        "import pandas as pd\n",
        "import os\n",
        "import shutil"
      ]
    },
    {
      "cell_type": "markdown",
      "source": [
        "Definindo as variáveis"
      ],
      "metadata": {
        "id": "UggtuFTRjgK7"
      }
    },
    {
      "cell_type": "code",
      "source": [
        "caminho = '/content/drive/MyDrive/sib_202306_AL.csv' # colocar um loop\n",
        "nome = os.path.basename(caminho)\n",
        "tamanho = os.path.getsize(caminho)/1000 #rever o tamanho do arquivo\n",
        "partes = int(tamanho // 100000 + 1)"
      ],
      "metadata": {
        "id": "9lKnsfKJgamG",
        "colab": {
          "base_uri": "https://localhost:8080/"
        },
        "outputId": "265ac03c-12b6-49f4-ed18-412b6606ee6c"
      },
      "execution_count": 3,
      "outputs": [
        {
          "output_type": "stream",
          "name": "stdout",
          "text": [
            "5\n"
          ]
        }
      ]
    },
    {
      "cell_type": "markdown",
      "source": [
        "Código principal"
      ],
      "metadata": {
        "id": "17karIGzksIN"
      }
    },
    {
      "cell_type": "code",
      "source": [
        "df = pd.read_csv(caminho,encoding='latin_1',error_bad_lines=False)\n",
        "linhas_parte = len(df) // partes\n",
        "partes = [df[i:i+linhas_parte] for i in range (0,len(df),linhas_parte)]\n",
        "\n",
        "for i, parte in enumerate(partes):\n",
        "    nome_arquivo = f'{nome}_{i+1}'\n",
        "    parte.to_csv(nome_arquivo, index=False)\n",
        "    shutil.copy(nome_arquivo, \"/content/drive/MyDrive\")"
      ],
      "metadata": {
        "id": "lC5iXhhwf4I9"
      },
      "execution_count": null,
      "outputs": []
    },
    {
      "cell_type": "markdown",
      "source": [],
      "metadata": {
        "id": "XYRXCLO6fUCR"
      }
    }
  ]
}